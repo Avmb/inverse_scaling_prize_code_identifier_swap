{
 "cells": [
  {
   "cell_type": "code",
   "execution_count": 1,
   "id": "5d64b071",
   "metadata": {},
   "outputs": [],
   "source": [
    "import sys, os\n",
    "from collections import namedtuple\n",
    "import csv\n",
    "import ast\n",
    "import re\n",
    "\n",
    "from tqdm import tqdm\n",
    "\n",
    "import openai, anthropic\n",
    "import backoff\n",
    "import tiktoken\n",
    "\n",
    "from langchain.chat_models import ChatOpenAI\n",
    "from langchain.chat_models import ChatAnthropic\n",
    "from langchain.prompts.chat import (\n",
    "    ChatPromptTemplate,\n",
    "    SystemMessagePromptTemplate,\n",
    "    AIMessagePromptTemplate,\n",
    "    HumanMessagePromptTemplate,\n",
    ")\n",
    "from langchain.schema import (\n",
    "    AIMessage,\n",
    "    HumanMessage,\n",
    "    SystemMessage\n",
    ")"
   ]
  },
  {
   "cell_type": "code",
   "execution_count": 2,
   "id": "1d4f2d0b",
   "metadata": {},
   "outputs": [],
   "source": [
    "oai_api_key_file =       \"path/to/openai_key\"\n",
    "anthropic_api_key_file = \"path/to/anthropic_key\"\n",
    "\n",
    "with open(oai_api_key_file, \"r\") as api_key_fs:\n",
    "    os.environ[\"OPENAI_API_KEY\"] = api_key_fs.read().strip()\n",
    "    \n",
    "with open(anthropic_api_key_file, \"r\") as api_key_fs:\n",
    "    os.environ[\"ANTHROPIC_API_KEY\"] = api_key_fs.read().strip()"
   ]
  },
  {
   "cell_type": "code",
   "execution_count": 3,
   "id": "bfd3ee1a",
   "metadata": {},
   "outputs": [],
   "source": [
    "test_set_file = \"../cc_4_0_licensed/python_builtins_swap.csv\" # Path to test set"
   ]
  },
  {
   "cell_type": "code",
   "execution_count": 4,
   "id": "f58467d7",
   "metadata": {},
   "outputs": [],
   "source": [
    "test_set = []\n",
    "with open(test_set_file, \"r\") as in_fs:\n",
    "    reader = csv.reader(in_fs)\n",
    "    for i, row in enumerate(reader):\n",
    "        if i == 0:\n",
    "            continue # skip header\n",
    "        example = {\"prompt\": row[0], \"classes\": ast.literal_eval(row[1]), \"answer_index\": int(row[2])}\n",
    "        test_set.append(example)"
   ]
  },
  {
   "cell_type": "code",
   "execution_count": 6,
   "id": "5700c058",
   "metadata": {},
   "outputs": [],
   "source": [
    "prompt_template = \\\n",
    "\"\"\"\n",
    "Consider the following Python programs:\n",
    "\n",
    "Program 1:\n",
    "\n",
    "{program_1}\n",
    "\n",
    "Program 2:\n",
    "\n",
    "{program_2}\n",
    "\n",
    "Which program is more likely to be correct? Write only the number of the program and nothing else.\n",
    "\"\"\""
   ]
  },
  {
   "cell_type": "code",
   "execution_count": 26,
   "id": "43c2dcca",
   "metadata": {},
   "outputs": [],
   "source": [
    "batch_size = 20 # note: actual submitted batches are twice as big since each example is sumbitted in two variants\n",
    "max_tokens_per_example = 4000 # Computed using tiktoken, not including the system prompt, assuming gpt-3.5-turbo-0301"
   ]
  },
  {
   "cell_type": "code",
   "execution_count": 13,
   "id": "08771c15",
   "metadata": {},
   "outputs": [],
   "source": [
    "tokenizer = tiktoken.encoding_for_model(\"gpt-3.5-turbo-0301\")"
   ]
  },
  {
   "cell_type": "code",
   "execution_count": 27,
   "id": "c1105335",
   "metadata": {},
   "outputs": [],
   "source": [
    "@backoff.on_exception(backoff.expo, Exception)\n",
    "def chat_llm_batch(chat_model, batch_messages, **kwargs):\n",
    "    return chat_model.generate(batch_messages, **kwargs)\n",
    "\n",
    "def eval_chat_model_batch(chat_model, batch, switch_order):\n",
    "    b_accuracy, b_num_valid = 0, 0\n",
    "    batch_messages = []\n",
    "    y_batch = []\n",
    "    for example in batch:\n",
    "        y = example[\"answer_index\"]\n",
    "        if switch_order:\n",
    "            y = 1 - y\n",
    "        x = prompt_template.format(\n",
    "            program_1 = example[\"prompt\"] + example[\"classes\"][1-y].rstrip() + \"\\n\",\n",
    "            program_2 = example[\"prompt\"] + example[\"classes\"][y].rstrip() + \"\\n\")\n",
    "        if len(tokenizer.encode(x)) > max_tokens_per_example:\n",
    "            # too long, skip\n",
    "            continue\n",
    "        x_messages = [\n",
    "            SystemMessage(content=\"You are a helpful assistant.\"),\n",
    "            HumanMessage(content=x)]\n",
    "        batch_messages.append(x_messages)\n",
    "        y_batch.append(y)\n",
    "    llm_batch_response = chat_llm_batch(chat_model, batch_messages)\n",
    "    for i, gen in enumerate(llm_batch_response.generations):\n",
    "        match = re.search(r'(\\d+)', gen[0].text)\n",
    "        if match is None:\n",
    "            continue\n",
    "        gen_class = int(match.group(1)) - 1 # generated class ids should be returned by the llm in the 1, 2 range\n",
    "        if (gen_class < 0) or (gen_class > 1):\n",
    "            continue\n",
    "        if gen_class == y:\n",
    "            b_accuracy += 1\n",
    "        b_num_valid += 1\n",
    "    return b_accuracy, b_num_valid   \n",
    "\n",
    "def eval_chat_model(chat_model, test_set):\n",
    "    raw_total_accuracy, num_valid, num_examples = 0, 0, 0\n",
    "    batch = []\n",
    "    for i in tqdm(range(len(test_set) + 1)):\n",
    "        if (i >= len(test_set)) or (len(batch) >= batch_size):\n",
    "            b_accuracy, b_num_valid = eval_chat_model_batch(chat_model, batch, False)\n",
    "            raw_total_accuracy += b_accuracy\n",
    "            num_valid += b_num_valid\n",
    "            num_examples += len(batch)\n",
    "            b_accuracy, b_num_valid = eval_chat_model_batch(chat_model, batch, True)\n",
    "            raw_total_accuracy += b_accuracy\n",
    "            num_valid += b_num_valid\n",
    "            num_examples += len(batch)\n",
    "            batch = []\n",
    "        if i < len(test_set):\n",
    "            batch.append(test_set[i])\n",
    "    total_accuracy = float(raw_total_accuracy) / num_examples\n",
    "    total_accuracy_on_valid = float(raw_total_accuracy) / num_valid\n",
    "    return {\n",
    "        \"raw_total_accuracy\": raw_total_accuracy,\n",
    "        \"total_accuracy\": total_accuracy,\n",
    "        \"total_accuracy_on_valid\": total_accuracy_on_valid,\n",
    "        \"num_valid\": num_valid,\n",
    "        \"num_examples\": num_examples}"
   ]
  },
  {
   "cell_type": "code",
   "execution_count": 15,
   "id": "73b7d0d6",
   "metadata": {},
   "outputs": [],
   "source": [
    "eval_results = {}"
   ]
  },
  {
   "cell_type": "code",
   "execution_count": 16,
   "id": "21f91b50",
   "metadata": {},
   "outputs": [
    {
     "name": "stdout",
     "output_type": "stream",
     "text": [
      "claude-instant-v1.1\n"
     ]
    },
    {
     "name": "stderr",
     "output_type": "stream",
     "text": [
      "100%|██████████████████████████████████████████████████████████████████████████████████████████████████████████████████████████████████████████████████████████████████████████| 1001/1001 [19:59<00:00,  1.20s/it]"
     ]
    },
    {
     "name": "stdout",
     "output_type": "stream",
     "text": [
      "{'raw_total_accuracy': 206, 'total_accuracy': 0.103, 'total_accuracy_on_valid': 0.103, 'num_valid': 2000, 'num_examples': 2000}\n",
      "----\n"
     ]
    },
    {
     "name": "stderr",
     "output_type": "stream",
     "text": [
      "\n"
     ]
    }
   ],
   "source": [
    "model_name = \"claude-instant-v1.1\"\n",
    "print(model_name)\n",
    "chat = ChatAnthropic(model=model_name, temperature=0.0)\n",
    "chat_eval = eval_chat_model(chat, test_set)\n",
    "print(chat_eval)\n",
    "print(\"----\")\n",
    "eval_results[model_name] = chat_eval"
   ]
  },
  {
   "cell_type": "code",
   "execution_count": 17,
   "id": "eec967f4",
   "metadata": {},
   "outputs": [
    {
     "name": "stdout",
     "output_type": "stream",
     "text": [
      "claude-v1.3\n"
     ]
    },
    {
     "name": "stderr",
     "output_type": "stream",
     "text": [
      "100%|██████████████████████████████████████████████████████████████████████████████████████████████████████████████████████████████████████████████████████████████████████████| 1001/1001 [44:04<00:00,  2.64s/it]"
     ]
    },
    {
     "name": "stdout",
     "output_type": "stream",
     "text": [
      "{'raw_total_accuracy': 350, 'total_accuracy': 0.175, 'total_accuracy_on_valid': 0.175, 'num_valid': 2000, 'num_examples': 2000}\n",
      "----\n"
     ]
    },
    {
     "name": "stderr",
     "output_type": "stream",
     "text": [
      "\n"
     ]
    }
   ],
   "source": [
    "model_name = \"claude-v1.3\"\n",
    "print(model_name)\n",
    "chat = ChatAnthropic(model=model_name, temperature=0.0)\n",
    "chat_eval = eval_chat_model(chat, test_set)\n",
    "print(chat_eval)\n",
    "print(\"----\")\n",
    "eval_results[model_name] = chat_eval"
   ]
  },
  {
   "cell_type": "code",
   "execution_count": 19,
   "id": "70146189",
   "metadata": {},
   "outputs": [
    {
     "name": "stdout",
     "output_type": "stream",
     "text": [
      "gpt-3.5-turbo-0301\n"
     ]
    },
    {
     "name": "stderr",
     "output_type": "stream",
     "text": [
      "  0%|                                                                                                                                                                                     | 0/1001 [00:00<?, ?it/s]Retrying langchain.chat_models.openai.ChatOpenAI.completion_with_retry.<locals>._completion_with_retry in 1.0 seconds as it raised RateLimitError: That model is currently overloaded with other requests. You can retry your request, or contact us through our help center at help.openai.com if the error persists. (Please include the request ID c972c4c81559af3b5b87a200dcc30cfb in your message.).\n",
      "Retrying langchain.chat_models.openai.ChatOpenAI.completion_with_retry.<locals>._completion_with_retry in 1.0 seconds as it raised RateLimitError: That model is currently overloaded with other requests. You can retry your request, or contact us through our help center at help.openai.com if the error persists. (Please include the request ID 733f3116a1f0e13399dc761d63e86d5b in your message.).\n",
      "Retrying langchain.chat_models.openai.ChatOpenAI.completion_with_retry.<locals>._completion_with_retry in 1.0 seconds as it raised RateLimitError: That model is currently overloaded with other requests. You can retry your request, or contact us through our help center at help.openai.com if the error persists. (Please include the request ID 648d55296b55331c90f1a708a9bd62c7 in your message.).\n",
      "  2%|███▌                                                                                                                                                                      | 21/1001 [02:56<2:16:53,  8.38s/it]Retrying langchain.chat_models.openai.ChatOpenAI.completion_with_retry.<locals>._completion_with_retry in 1.0 seconds as it raised RateLimitError: That model is currently overloaded with other requests. You can retry your request, or contact us through our help center at help.openai.com if the error persists. (Please include the request ID 78abc76238809b53f9b07291f1a65258 in your message.).\n",
      "Retrying langchain.chat_models.openai.ChatOpenAI.completion_with_retry.<locals>._completion_with_retry in 1.0 seconds as it raised RateLimitError: That model is currently overloaded with other requests. You can retry your request, or contact us through our help center at help.openai.com if the error persists. (Please include the request ID cbe735c97c99a54afd478332b013c5ed in your message.).\n",
      "  4%|██████▉                                                                                                                                                                   | 41/1001 [05:14<2:00:46,  7.55s/it]Retrying langchain.chat_models.openai.ChatOpenAI.completion_with_retry.<locals>._completion_with_retry in 1.0 seconds as it raised RateLimitError: That model is currently overloaded with other requests. You can retry your request, or contact us through our help center at help.openai.com if the error persists. (Please include the request ID 48ddf4dc0e07f85fc3db394a86e6c552 in your message.).\n",
      "Retrying langchain.chat_models.openai.ChatOpenAI.completion_with_retry.<locals>._completion_with_retry in 1.0 seconds as it raised RateLimitError: That model is currently overloaded with other requests. You can retry your request, or contact us through our help center at help.openai.com if the error persists. (Please include the request ID e9e2af2e93cbc267679bf53fe51a109f in your message.).\n",
      "  6%|██████████▎                                                                                                                                                               | 61/1001 [07:44<1:57:51,  7.52s/it]Retrying langchain.chat_models.openai.ChatOpenAI.completion_with_retry.<locals>._completion_with_retry in 1.0 seconds as it raised RateLimitError: That model is currently overloaded with other requests. You can retry your request, or contact us through our help center at help.openai.com if the error persists. (Please include the request ID 7a9b9aee36b37a43e784d0830f35c10a in your message.).\n",
      "  8%|█████████████▊                                                                                                                                                            | 81/1001 [09:06<1:34:43,  6.18s/it]Retrying langchain.chat_models.openai.ChatOpenAI.completion_with_retry.<locals>._completion_with_retry in 1.0 seconds as it raised RateLimitError: That model is currently overloaded with other requests. You can retry your request, or contact us through our help center at help.openai.com if the error persists. (Please include the request ID 3ac3ad0f5c4d17c377a7d75a0bdf8157 in your message.).\n",
      " 12%|████████████████████▍                                                                                                                                                    | 121/1001 [12:22<1:20:02,  5.46s/it]Retrying langchain.chat_models.openai.ChatOpenAI.completion_with_retry.<locals>._completion_with_retry in 1.0 seconds as it raised RateLimitError: That model is currently overloaded with other requests. You can retry your request, or contact us through our help center at help.openai.com if the error persists. (Please include the request ID dec996e5bfdf68528d8986637bf3108a in your message.).\n",
      "Retrying langchain.chat_models.openai.ChatOpenAI.completion_with_retry.<locals>._completion_with_retry in 1.0 seconds as it raised RateLimitError: That model is currently overloaded with other requests. You can retry your request, or contact us through our help center at help.openai.com if the error persists. (Please include the request ID fc39bfc5a6d35e87a62107d35277fca7 in your message.).\n",
      " 14%|███████████████████████▊                                                                                                                                                 | 141/1001 [15:24<1:35:14,  6.64s/it]Retrying langchain.chat_models.openai.ChatOpenAI.completion_with_retry.<locals>._completion_with_retry in 1.0 seconds as it raised RateLimitError: That model is currently overloaded with other requests. You can retry your request, or contact us through our help center at help.openai.com if the error persists. (Please include the request ID d6477786da0b945cea8d95863896c327 in your message.).\n",
      " 16%|███████████████████████████▏                                                                                                                                             | 161/1001 [16:53<1:23:21,  5.95s/it]Retrying langchain.chat_models.openai.ChatOpenAI.completion_with_retry.<locals>._completion_with_retry in 1.0 seconds as it raised RateLimitError: That model is currently overloaded with other requests. You can retry your request, or contact us through our help center at help.openai.com if the error persists. (Please include the request ID d3833f81fdd9fec2df7701cc1483dc3f in your message.).\n",
      " 18%|██████████████████████████████▌                                                                                                                                          | 181/1001 [18:42<1:19:08,  5.79s/it]Retrying langchain.chat_models.openai.ChatOpenAI.completion_with_retry.<locals>._completion_with_retry in 1.0 seconds as it raised APIError: Gateway timeout. {\"error\":{\"code\":524,\"message\":\"Gateway timeout.\",\"param\":null,\"type\":\"cf_gateway_timeout\"}} 524 {'error': {'code': 524, 'message': 'Gateway timeout.', 'param': None, 'type': 'cf_gateway_timeout'}} {'Date': 'Fri, 19 May 2023 03:15:11 GMT', 'Content-Type': 'application/json', 'Content-Length': '92', 'Connection': 'keep-alive', 'X-Frame-Options': 'SAMEORIGIN', 'Referrer-Policy': 'same-origin', 'Cache-Control': 'private, max-age=0, no-store, no-cache, must-revalidate, post-check=0, pre-check=0', 'Expires': 'Thu, 01 Jan 1970 00:00:01 GMT', 'Server': 'cloudflare', 'CF-RAY': '7c991de88ac554ca-MAN'}.\n",
      "Retrying langchain.chat_models.openai.ChatOpenAI.completion_with_retry.<locals>._completion_with_retry in 1.0 seconds as it raised RateLimitError: That model is currently overloaded with other requests. You can retry your request, or contact us through our help center at help.openai.com if the error persists. (Please include the request ID 496f5b43f10392e79944b269889b42a3 in your message.).\n",
      " 20%|█████████████████████████████████▉                                                                                                                                       | 201/1001 [30:18<3:16:36, 14.75s/it]Retrying langchain.chat_models.openai.ChatOpenAI.completion_with_retry.<locals>._completion_with_retry in 1.0 seconds as it raised RateLimitError: That model is currently overloaded with other requests. You can retry your request, or contact us through our help center at help.openai.com if the error persists. (Please include the request ID 6af8f193ec2819f0363a67c631400d29 in your message.).\n",
      "Retrying langchain.chat_models.openai.ChatOpenAI.completion_with_retry.<locals>._completion_with_retry in 1.0 seconds as it raised RateLimitError: That model is currently overloaded with other requests. You can retry your request, or contact us through our help center at help.openai.com if the error persists. (Please include the request ID 9297c1114defe99a5b9b459d1470d8d0 in your message.).\n",
      " 22%|█████████████████████████████████████▎                                                                                                                                   | 221/1001 [32:28<2:38:51, 12.22s/it]Retrying langchain.chat_models.openai.ChatOpenAI.completion_with_retry.<locals>._completion_with_retry in 1.0 seconds as it raised RateLimitError: That model is currently overloaded with other requests. You can retry your request, or contact us through our help center at help.openai.com if the error persists. (Please include the request ID bce0e2a4229097fef4d23f837ac4132e in your message.).\n",
      " 24%|████████████████████████████████████████▋                                                                                                                                | 241/1001 [33:59<2:05:06,  9.88s/it]Retrying langchain.chat_models.openai.ChatOpenAI.completion_with_retry.<locals>._completion_with_retry in 1.0 seconds as it raised RateLimitError: That model is currently overloaded with other requests. You can retry your request, or contact us through our help center at help.openai.com if the error persists. (Please include the request ID 5d1c9c5efcec53a9913a851b0abd6c1c in your message.).\n",
      " 26%|████████████████████████████████████████████                                                                                                                             | 261/1001 [35:32<1:42:20,  8.30s/it]Retrying langchain.chat_models.openai.ChatOpenAI.completion_with_retry.<locals>._completion_with_retry in 1.0 seconds as it raised RateLimitError: That model is currently overloaded with other requests. You can retry your request, or contact us through our help center at help.openai.com if the error persists. (Please include the request ID f53ddf65745275ba339510f961c0bcb2 in your message.).\n",
      " 28%|███████████████████████████████████████████████▍                                                                                                                         | 281/1001 [37:26<1:30:14,  7.52s/it]Retrying langchain.chat_models.openai.ChatOpenAI.completion_with_retry.<locals>._completion_with_retry in 1.0 seconds as it raised RateLimitError: That model is currently overloaded with other requests. You can retry your request, or contact us through our help center at help.openai.com if the error persists. (Please include the request ID 19ea986237046f51342d73572cc6c074 in your message.).\n",
      " 30%|██████████████████████████████████████████████████▊                                                                                                                      | 301/1001 [39:11<1:19:47,  6.84s/it]Retrying langchain.chat_models.openai.ChatOpenAI.completion_with_retry.<locals>._completion_with_retry in 1.0 seconds as it raised RateLimitError: That model is currently overloaded with other requests. You can retry your request, or contact us through our help center at help.openai.com if the error persists. (Please include the request ID 98ef64371c5e795ad3ca04d4a24ca4fd in your message.).\n",
      " 32%|██████████████████████████████████████████████████████▏                                                                                                                  | 321/1001 [41:09<1:14:10,  6.54s/it]Retrying langchain.chat_models.openai.ChatOpenAI.completion_with_retry.<locals>._completion_with_retry in 1.0 seconds as it raised RateLimitError: That model is currently overloaded with other requests. You can retry your request, or contact us through our help center at help.openai.com if the error persists. (Please include the request ID 30e3584dbb4e7843696d79b1fa83f665 in your message.).\n",
      " 34%|█████████████████████████████████████████████████████████▌                                                                                                               | 341/1001 [43:30<1:13:42,  6.70s/it]Retrying langchain.chat_models.openai.ChatOpenAI.completion_with_retry.<locals>._completion_with_retry in 1.0 seconds as it raised RateLimitError: That model is currently overloaded with other requests. You can retry your request, or contact us through our help center at help.openai.com if the error persists. (Please include the request ID 1bf905f0dac6b4c92702626c230b2f4f in your message.).\n",
      " 36%|████████████████████████████████████████████████████████████▉                                                                                                            | 361/1001 [45:17<1:07:09,  6.30s/it]Retrying langchain.chat_models.openai.ChatOpenAI.completion_with_retry.<locals>._completion_with_retry in 1.0 seconds as it raised RateLimitError: That model is currently overloaded with other requests. You can retry your request, or contact us through our help center at help.openai.com if the error persists. (Please include the request ID f4035d75dd635543f08622cfd86c69ca in your message.).\n",
      "Retrying langchain.chat_models.openai.ChatOpenAI.completion_with_retry.<locals>._completion_with_retry in 1.0 seconds as it raised RateLimitError: That model is currently overloaded with other requests. You can retry your request, or contact us through our help center at help.openai.com if the error persists. (Please include the request ID e9492f8ec1f661477f4b52449868e0a2 in your message.).\n",
      "Retrying langchain.chat_models.openai.ChatOpenAI.completion_with_retry.<locals>._completion_with_retry in 1.0 seconds as it raised RateLimitError: That model is currently overloaded with other requests. You can retry your request, or contact us through our help center at help.openai.com if the error persists. (Please include the request ID 58ab1ed704edbe3d4a782e3efa1b0804 in your message.).\n",
      " 42%|███████████████████████████████████████████████████████████████████████                                                                                                  | 421/1001 [53:32<1:07:23,  6.97s/it]Retrying langchain.chat_models.openai.ChatOpenAI.completion_with_retry.<locals>._completion_with_retry in 1.0 seconds as it raised RateLimitError: That model is currently overloaded with other requests. You can retry your request, or contact us through our help center at help.openai.com if the error persists. (Please include the request ID 72c834add675b33b571e686c2b067d00 in your message.).\n",
      "Retrying langchain.chat_models.openai.ChatOpenAI.completion_with_retry.<locals>._completion_with_retry in 1.0 seconds as it raised RateLimitError: That model is currently overloaded with other requests. You can retry your request, or contact us through our help center at help.openai.com if the error persists. (Please include the request ID 0caddff1ad816fb84e83f49a1e37a7b3 in your message.).\n",
      " 44%|██████████████████████████████████████████████████████████████████████████▍                                                                                              | 441/1001 [55:34<1:02:38,  6.71s/it]Retrying langchain.chat_models.openai.ChatOpenAI.completion_with_retry.<locals>._completion_with_retry in 1.0 seconds as it raised RateLimitError: That model is currently overloaded with other requests. You can retry your request, or contact us through our help center at help.openai.com if the error persists. (Please include the request ID b324e50d8c4110282a8a9af917f0c724 in your message.).\n"
     ]
    },
    {
     "name": "stderr",
     "output_type": "stream",
     "text": [
      " 48%|██████████████████████████████████████████████████████████████████████████████████▏                                                                                        | 481/1001 [58:53<50:31,  5.83s/it]Retrying langchain.chat_models.openai.ChatOpenAI.completion_with_retry.<locals>._completion_with_retry in 1.0 seconds as it raised APIError: Bad gateway. {\"error\":{\"code\":502,\"message\":\"Bad gateway.\",\"param\":null,\"type\":\"cf_bad_gateway\"}} 502 {'error': {'code': 502, 'message': 'Bad gateway.', 'param': None, 'type': 'cf_bad_gateway'}} {'Date': 'Fri, 19 May 2023 03:51:10 GMT', 'Content-Type': 'application/json', 'Content-Length': '84', 'Connection': 'keep-alive', 'X-Frame-Options': 'SAMEORIGIN', 'Referrer-Policy': 'same-origin', 'Cache-Control': 'private, max-age=0, no-store, no-cache, must-revalidate, post-check=0, pre-check=0', 'Expires': 'Thu, 01 Jan 1970 00:00:01 GMT', 'Server': 'cloudflare', 'CF-RAY': '7c9959abca650763-MAN', 'alt-svc': 'h3=\":443\"; ma=86400, h3-29=\":443\"; ma=86400'}.\n",
      " 50%|███████████████████████████████████████████████████████████████████████████████████▌                                                                                   | 501/1001 [1:05:28<1:23:20, 10.00s/it]Retrying langchain.chat_models.openai.ChatOpenAI.completion_with_retry.<locals>._completion_with_retry in 1.0 seconds as it raised RateLimitError: That model is currently overloaded with other requests. You can retry your request, or contact us through our help center at help.openai.com if the error persists. (Please include the request ID 2020fb8629e9fd48eeb974cc62481fb1 in your message.).\n",
      "Retrying langchain.chat_models.openai.ChatOpenAI.completion_with_retry.<locals>._completion_with_retry in 1.0 seconds as it raised RateLimitError: That model is currently overloaded with other requests. You can retry your request, or contact us through our help center at help.openai.com if the error persists. (Please include the request ID af7bb2e3b582bddbcd48ea164b36fb2d in your message.).\n",
      " 54%|███████████████████████████████████████████████████████████████████████████████████████████▎                                                                             | 541/1001 [1:09:15<59:20,  7.74s/it]Retrying langchain.chat_models.openai.ChatOpenAI.completion_with_retry.<locals>._completion_with_retry in 1.0 seconds as it raised RateLimitError: That model is currently overloaded with other requests. You can retry your request, or contact us through our help center at help.openai.com if the error persists. (Please include the request ID 4274e08ee3a21135720cc16c3e0c960e in your message.).\n",
      " 56%|██████████████████████████████████████████████████████████████████████████████████████████████▋                                                                          | 561/1001 [1:10:59<51:11,  6.98s/it]Retrying langchain.chat_models.openai.ChatOpenAI.completion_with_retry.<locals>._completion_with_retry in 1.0 seconds as it raised RateLimitError: That model is currently overloaded with other requests. You can retry your request, or contact us through our help center at help.openai.com if the error persists. (Please include the request ID 6ba0f86850591bd07462a749f88ab058 in your message.).\n",
      "Retrying langchain.chat_models.openai.ChatOpenAI.completion_with_retry.<locals>._completion_with_retry in 1.0 seconds as it raised RateLimitError: That model is currently overloaded with other requests. You can retry your request, or contact us through our help center at help.openai.com if the error persists. (Please include the request ID c3d5797b533845fd80bbc1393090cb50 in your message.).\n",
      " 58%|██████████████████████████████████████████████████████████████████████████████████████████████████                                                                       | 581/1001 [1:13:43<51:22,  7.34s/it]Retrying langchain.chat_models.openai.ChatOpenAI.completion_with_retry.<locals>._completion_with_retry in 1.0 seconds as it raised RateLimitError: That model is currently overloaded with other requests. You can retry your request, or contact us through our help center at help.openai.com if the error persists. (Please include the request ID 2a02fb0cd0ce7f57eb623983b3792e0a in your message.).\n",
      " 60%|█████████████████████████████████████████████████████████████████████████████████████████████████████▍                                                                   | 601/1001 [1:15:25<44:28,  6.67s/it]Retrying langchain.chat_models.openai.ChatOpenAI.completion_with_retry.<locals>._completion_with_retry in 1.0 seconds as it raised RateLimitError: That model is currently overloaded with other requests. You can retry your request, or contact us through our help center at help.openai.com if the error persists. (Please include the request ID 936ac7fe674e2306fab43b20573538f7 in your message.).\n",
      "Retrying langchain.chat_models.openai.ChatOpenAI.completion_with_retry.<locals>._completion_with_retry in 2.0 seconds as it raised RateLimitError: That model is currently overloaded with other requests. You can retry your request, or contact us through our help center at help.openai.com if the error persists. (Please include the request ID b294124c9922f82529e844869da4d225 in your message.).\n",
      "Retrying langchain.chat_models.openai.ChatOpenAI.completion_with_retry.<locals>._completion_with_retry in 1.0 seconds as it raised RateLimitError: That model is currently overloaded with other requests. You can retry your request, or contact us through our help center at help.openai.com if the error persists. (Please include the request ID 7373f73a07cfd74e79d5fb1f6d811277 in your message.).\n",
      " 62%|████████████████████████████████████████████████████████████████████████████████████████████████████████▊                                                                | 621/1001 [1:18:19<46:05,  7.28s/it]Retrying langchain.chat_models.openai.ChatOpenAI.completion_with_retry.<locals>._completion_with_retry in 1.0 seconds as it raised RateLimitError: That model is currently overloaded with other requests. You can retry your request, or contact us through our help center at help.openai.com if the error persists. (Please include the request ID a9a7f7388809a45a3fb4dbdfa6a77350 in your message.).\n",
      " 64%|████████████████████████████████████████████████████████████████████████████████████████████████████████████▏                                                            | 641/1001 [1:20:10<40:32,  6.76s/it]Retrying langchain.chat_models.openai.ChatOpenAI.completion_with_retry.<locals>._completion_with_retry in 1.0 seconds as it raised RateLimitError: That model is currently overloaded with other requests. You can retry your request, or contact us through our help center at help.openai.com if the error persists. (Please include the request ID 2b62b51e0e87101a332677549da0b9a7 in your message.).\n",
      "Retrying langchain.chat_models.openai.ChatOpenAI.completion_with_retry.<locals>._completion_with_retry in 1.0 seconds as it raised RateLimitError: That model is currently overloaded with other requests. You can retry your request, or contact us through our help center at help.openai.com if the error persists. (Please include the request ID 7ebcc84bdaeec7be21746738735456f5 in your message.).\n",
      " 66%|███████████████████████████████████████████████████████████████████████████████████████████████████████████████▌                                                         | 661/1001 [1:22:18<37:41,  6.65s/it]Retrying langchain.chat_models.openai.ChatOpenAI.completion_with_retry.<locals>._completion_with_retry in 1.0 seconds as it raised RateLimitError: That model is currently overloaded with other requests. You can retry your request, or contact us through our help center at help.openai.com if the error persists. (Please include the request ID fbf712d25b96e0040928232e05bdee5b in your message.).\n",
      "Retrying langchain.chat_models.openai.ChatOpenAI.completion_with_retry.<locals>._completion_with_retry in 1.0 seconds as it raised RateLimitError: That model is currently overloaded with other requests. You can retry your request, or contact us through our help center at help.openai.com if the error persists. (Please include the request ID 35b74a1c994aac9566b6f33741f11e24 in your message.).\n"
     ]
    },
    {
     "name": "stderr",
     "output_type": "stream",
     "text": [
      "Retrying langchain.chat_models.openai.ChatOpenAI.completion_with_retry.<locals>._completion_with_retry in 1.0 seconds as it raised RateLimitError: That model is currently overloaded with other requests. You can retry your request, or contact us through our help center at help.openai.com if the error persists. (Please include the request ID efe51d859e825291eccc62b2e2796018 in your message.).\n",
      " 68%|██████████████████████████████████████████████████████████████████████████████████████████████████████████████████▉                                                      | 681/1001 [1:24:56<37:28,  7.03s/it]Retrying langchain.chat_models.openai.ChatOpenAI.completion_with_retry.<locals>._completion_with_retry in 1.0 seconds as it raised RateLimitError: That model is currently overloaded with other requests. You can retry your request, or contact us through our help center at help.openai.com if the error persists. (Please include the request ID 52bf904a49ade142ef428ef051853999 in your message.).\n",
      " 72%|█████████████████████████████████████████████████████████████████████████████████████████████████████████████████████████▋                                               | 721/1001 [1:27:49<25:58,  5.57s/it]Retrying langchain.chat_models.openai.ChatOpenAI.completion_with_retry.<locals>._completion_with_retry in 1.0 seconds as it raised RateLimitError: That model is currently overloaded with other requests. You can retry your request, or contact us through our help center at help.openai.com if the error persists. (Please include the request ID 42c459ad2eca5e1b81ec8f88c0d7eee9 in your message.).\n",
      " 76%|████████████████████████████████████████████████████████████████████████████████████████████████████████████████████████████████▍                                        | 761/1001 [1:30:44<19:26,  4.86s/it]Retrying langchain.chat_models.openai.ChatOpenAI.completion_with_retry.<locals>._completion_with_retry in 1.0 seconds as it raised RateLimitError: That model is currently overloaded with other requests. You can retry your request, or contact us through our help center at help.openai.com if the error persists. (Please include the request ID 87b82c18a0a1b33f41cbca55c960aeeb in your message.).\n",
      " 82%|██████████████████████████████████████████████████████████████████████████████████████████████████████████████████████████████████████████▌                              | 821/1001 [1:34:15<11:30,  3.83s/it]Retrying langchain.chat_models.openai.ChatOpenAI.completion_with_retry.<locals>._completion_with_retry in 1.0 seconds as it raised RateLimitError: That model is currently overloaded with other requests. You can retry your request, or contact us through our help center at help.openai.com if the error persists. (Please include the request ID 41a47e96cbe37f3397c5b5166495cef6 in your message.).\n",
      " 86%|█████████████████████████████████████████████████████████████████████████████████████████████████████████████████████████████████████████████████▎                       | 861/1001 [1:36:41<08:28,  3.64s/it]Retrying langchain.chat_models.openai.ChatOpenAI.completion_with_retry.<locals>._completion_with_retry in 1.0 seconds as it raised RateLimitError: That model is currently overloaded with other requests. You can retry your request, or contact us through our help center at help.openai.com if the error persists. (Please include the request ID 3ff19d7b74541c1b5afb2a9f0ac46c1c in your message.).\n",
      " 90%|████████████████████████████████████████████████████████████████████████████████████████████████████████████████████████████████████████████████████████                 | 901/1001 [1:39:31<06:21,  3.82s/it]Retrying langchain.chat_models.openai.ChatOpenAI.completion_with_retry.<locals>._completion_with_retry in 1.0 seconds as it raised RateLimitError: That model is currently overloaded with other requests. You can retry your request, or contact us through our help center at help.openai.com if the error persists. (Please include the request ID 39b0247737cc2c2050ac03dcdc2c5269 in your message.).\n",
      "Retrying langchain.chat_models.openai.ChatOpenAI.completion_with_retry.<locals>._completion_with_retry in 1.0 seconds as it raised RateLimitError: That model is currently overloaded with other requests. You can retry your request, or contact us through our help center at help.openai.com if the error persists. (Please include the request ID 66943b060398bcc7d95fb44583c4b6c1 in your message.).\n",
      "Retrying langchain.chat_models.openai.ChatOpenAI.completion_with_retry.<locals>._completion_with_retry in 1.0 seconds as it raised RateLimitError: That model is currently overloaded with other requests. You can retry your request, or contact us through our help center at help.openai.com if the error persists. (Please include the request ID b3f23958dd2cef1b88b8fccb16e63a8c in your message.).\n",
      "Retrying langchain.chat_models.openai.ChatOpenAI.completion_with_retry.<locals>._completion_with_retry in 1.0 seconds as it raised RateLimitError: That model is currently overloaded with other requests. You can retry your request, or contact us through our help center at help.openai.com if the error persists. (Please include the request ID 2cc01eacb10be5cdf644e6d02230edfd in your message.).\n",
      "Retrying langchain.chat_models.openai.ChatOpenAI.completion_with_retry.<locals>._completion_with_retry in 1.0 seconds as it raised RateLimitError: That model is currently overloaded with other requests. You can retry your request, or contact us through our help center at help.openai.com if the error persists. (Please include the request ID 20119bfc788cca651c52d853d1194f4f in your message.).\n",
      " 94%|██████████████████████████████████████████████████████████████████████████████████████████████████████████████████████████████████████████████████████████████▊          | 941/1001 [1:44:24<05:14,  5.24s/it]Retrying langchain.chat_models.openai.ChatOpenAI.completion_with_retry.<locals>._completion_with_retry in 1.0 seconds as it raised RateLimitError: That model is currently overloaded with other requests. You can retry your request, or contact us through our help center at help.openai.com if the error persists. (Please include the request ID 6dcd037fd7fe193836125a6693c3ae51 in your message.).\n",
      " 96%|██████████████████████████████████████████████████████████████████████████████████████████████████████████████████████████████████████████████████████████████████▏      | 961/1001 [1:45:53<03:19,  5.00s/it]Retrying langchain.chat_models.openai.ChatOpenAI.completion_with_retry.<locals>._completion_with_retry in 1.0 seconds as it raised RateLimitError: That model is currently overloaded with other requests. You can retry your request, or contact us through our help center at help.openai.com if the error persists. (Please include the request ID 624f7b69e1bd6ab0a1b671899826671c in your message.).\n",
      "Retrying langchain.chat_models.openai.ChatOpenAI.completion_with_retry.<locals>._completion_with_retry in 1.0 seconds as it raised RateLimitError: That model is currently overloaded with other requests. You can retry your request, or contact us through our help center at help.openai.com if the error persists. (Please include the request ID 465a7df4df9531babf1321524f807425 in your message.).\n",
      "100%|████████████████████████████████████████████████████████████████████████████████████████████████████████████████████████████████████████████████████████████████████████| 1001/1001 [1:49:18<00:00,  6.55s/it]"
     ]
    },
    {
     "name": "stdout",
     "output_type": "stream",
     "text": [
      "{'raw_total_accuracy': 67, 'total_accuracy': 0.0335, 'total_accuracy_on_valid': 0.0393885949441505, 'num_valid': 1701, 'num_examples': 2000}\n",
      "----\n"
     ]
    },
    {
     "name": "stderr",
     "output_type": "stream",
     "text": [
      "\n"
     ]
    }
   ],
   "source": [
    "model_name=\"gpt-3.5-turbo-0301\"\n",
    "chat = ChatOpenAI(model_name=model_name, temperature=0.0)\n",
    "print(model_name)\n",
    "chat_eval = eval_chat_model(chat, test_set)\n",
    "print(chat_eval)\n",
    "print(\"----\")\n",
    "eval_results[model_name] = chat_eval"
   ]
  },
  {
   "cell_type": "code",
   "execution_count": 28,
   "id": "cc837ea7",
   "metadata": {},
   "outputs": [
    {
     "name": "stdout",
     "output_type": "stream",
     "text": [
      "gpt-4-0314\n"
     ]
    },
    {
     "name": "stderr",
     "output_type": "stream",
     "text": [
      " 72%|███████████████████████████████████████████████████████████████████████████████████████████████████████████████████████████▏                                               | 721/1001 [37:03<14:16,  3.06s/it]Retrying langchain.chat_models.openai.ChatOpenAI.completion_with_retry.<locals>._completion_with_retry in 1.0 seconds as it raised APIError: Bad gateway. {\"error\":{\"code\":502,\"message\":\"Bad gateway.\",\"param\":null,\"type\":\"cf_bad_gateway\"}} 502 {'error': {'code': 502, 'message': 'Bad gateway.', 'param': None, 'type': 'cf_bad_gateway'}} {'Date': 'Fri, 19 May 2023 11:33:58 GMT', 'Content-Type': 'application/json', 'Content-Length': '84', 'Connection': 'keep-alive', 'X-Frame-Options': 'SAMEORIGIN', 'Referrer-Policy': 'same-origin', 'Cache-Control': 'private, max-age=0, no-store, no-cache, must-revalidate, post-check=0, pre-check=0', 'Expires': 'Thu, 01 Jan 1970 00:00:01 GMT', 'Server': 'cloudflare', 'CF-RAY': '7c9bff9a1cee0abf-MAN', 'alt-svc': 'h3=\":443\"; ma=86400, h3-29=\":443\"; ma=86400'}.\n",
      " 74%|██████████████████████████████████████████████████████████████████████████████████████████████████████████████████████████████▌                                            | 741/1001 [43:15<33:26,  7.72s/it]Retrying langchain.chat_models.openai.ChatOpenAI.completion_with_retry.<locals>._completion_with_retry in 1.0 seconds as it raised APIError: Bad gateway. {\"error\":{\"code\":502,\"message\":\"Bad gateway.\",\"param\":null,\"type\":\"cf_bad_gateway\"}} 502 {'error': {'code': 502, 'message': 'Bad gateway.', 'param': None, 'type': 'cf_bad_gateway'}} {'Date': 'Fri, 19 May 2023 11:39:29 GMT', 'Content-Type': 'application/json', 'Content-Length': '84', 'Connection': 'keep-alive', 'X-Frame-Options': 'SAMEORIGIN', 'Referrer-Policy': 'same-origin', 'Cache-Control': 'private, max-age=0, no-store, no-cache, must-revalidate, post-check=0, pre-check=0', 'Expires': 'Thu, 01 Jan 1970 00:00:01 GMT', 'Server': 'cloudflare', 'CF-RAY': '7c9c07a8dc0b0abf-MAN', 'alt-svc': 'h3=\":443\"; ma=86400, h3-29=\":443\"; ma=86400'}.\n",
      "Retrying langchain.chat_models.openai.ChatOpenAI.completion_with_retry.<locals>._completion_with_retry in 1.0 seconds as it raised APIError: Bad gateway. {\"error\":{\"code\":502,\"message\":\"Bad gateway.\",\"param\":null,\"type\":\"cf_bad_gateway\"}} 502 {'error': {'code': 502, 'message': 'Bad gateway.', 'param': None, 'type': 'cf_bad_gateway'}} {'Date': 'Fri, 19 May 2023 11:45:41 GMT', 'Content-Type': 'application/json', 'Content-Length': '84', 'Connection': 'keep-alive', 'X-Frame-Options': 'SAMEORIGIN', 'Referrer-Policy': 'same-origin', 'Cache-Control': 'private, max-age=0, no-store, no-cache, must-revalidate, post-check=0, pre-check=0', 'Expires': 'Thu, 01 Jan 1970 00:00:01 GMT', 'Server': 'cloudflare', 'CF-RAY': '7c9c10c48a440abf-MAN', 'alt-svc': 'h3=\":443\"; ma=86400, h3-29=\":443\"; ma=86400'}.\n",
      " 78%|█████████████████████████████████████████████████████████████████████████████████████████████████████████████████████████████████████▍                                     | 781/1001 [55:46<43:39, 11.91s/it]Retrying langchain.chat_models.openai.ChatOpenAI.completion_with_retry.<locals>._completion_with_retry in 1.0 seconds as it raised APIError: Bad gateway. {\"error\":{\"code\":502,\"message\":\"Bad gateway.\",\"param\":null,\"type\":\"cf_bad_gateway\"}} 502 {'error': {'code': 502, 'message': 'Bad gateway.', 'param': None, 'type': 'cf_bad_gateway'}} {'Date': 'Fri, 19 May 2023 11:52:04 GMT', 'Content-Type': 'application/json', 'Content-Length': '84', 'Connection': 'keep-alive', 'X-Frame-Options': 'SAMEORIGIN', 'Referrer-Policy': 'same-origin', 'Cache-Control': 'private, max-age=0, no-store, no-cache, must-revalidate, post-check=0, pre-check=0', 'Expires': 'Thu, 01 Jan 1970 00:00:01 GMT', 'Server': 'cloudflare', 'CF-RAY': '7c9c1a1b797e0abf-MAN', 'alt-svc': 'h3=\":443\"; ma=86400, h3-29=\":443\"; ma=86400'}.\n",
      " 80%|███████████████████████████████████████████████████████████████████████████████████████████████████████████████████████████████████████▏                                 | 801/1001 [1:02:04<46:43, 14.02s/it]Retrying langchain.chat_models.openai.ChatOpenAI.completion_with_retry.<locals>._completion_with_retry in 1.0 seconds as it raised APIError: Bad gateway. {\"error\":{\"code\":502,\"message\":\"Bad gateway.\",\"param\":null,\"type\":\"cf_bad_gateway\"}} 502 {'error': {'code': 502, 'message': 'Bad gateway.', 'param': None, 'type': 'cf_bad_gateway'}} {'Date': 'Fri, 19 May 2023 11:58:54 GMT', 'Content-Type': 'application/json', 'Content-Length': '84', 'Connection': 'keep-alive', 'X-Frame-Options': 'SAMEORIGIN', 'Referrer-Policy': 'same-origin', 'Cache-Control': 'private, max-age=0, no-store, no-cache, must-revalidate, post-check=0, pre-check=0', 'Expires': 'Thu, 01 Jan 1970 00:00:01 GMT', 'Server': 'cloudflare', 'CF-RAY': '7c9c2414dc6a0abf-MAN', 'alt-svc': 'h3=\":443\"; ma=86400, h3-29=\":443\"; ma=86400'}.\n",
      " 86%|█████████████████████████████████████████████████████████████████████████████████████████████████████████████████████████████████████████████████▎                       | 861/1001 [1:10:26<21:29,  9.21s/it]Retrying langchain.chat_models.openai.ChatOpenAI.completion_with_retry.<locals>._completion_with_retry in 1.0 seconds as it raised APIError: Bad gateway. {\"error\":{\"code\":502,\"message\":\"Bad gateway.\",\"param\":null,\"type\":\"cf_bad_gateway\"}} 502 {'error': {'code': 502, 'message': 'Bad gateway.', 'param': None, 'type': 'cf_bad_gateway'}} {'Date': 'Fri, 19 May 2023 12:07:25 GMT', 'Content-Type': 'application/json', 'Content-Length': '84', 'Connection': 'keep-alive', 'X-Frame-Options': 'SAMEORIGIN', 'Referrer-Policy': 'same-origin', 'Cache-Control': 'private, max-age=0, no-store, no-cache, must-revalidate, post-check=0, pre-check=0', 'Expires': 'Thu, 01 Jan 1970 00:00:01 GMT', 'Server': 'cloudflare', 'CF-RAY': '7c9c30972daa0abf-MAN', 'alt-svc': 'h3=\":443\"; ma=86400, h3-29=\":443\"; ma=86400'}.\n",
      " 88%|████████████████████████████████████████████████████████████████████████████████████████████████████████████████████████████████████████████████████▋                    | 881/1001 [1:16:48<24:20, 12.17s/it]Retrying langchain.chat_models.openai.ChatOpenAI.completion_with_retry.<locals>._completion_with_retry in 1.0 seconds as it raised APIError: Bad gateway. {\"error\":{\"code\":502,\"message\":\"Bad gateway.\",\"param\":null,\"type\":\"cf_bad_gateway\"}} 502 {'error': {'code': 502, 'message': 'Bad gateway.', 'param': None, 'type': 'cf_bad_gateway'}} {'Date': 'Fri, 19 May 2023 12:13:40 GMT', 'Content-Type': 'application/json', 'Content-Length': '84', 'Connection': 'keep-alive', 'X-Frame-Options': 'SAMEORIGIN', 'Referrer-Policy': 'same-origin', 'Cache-Control': 'private, max-age=0, no-store, no-cache, must-revalidate, post-check=0, pre-check=0', 'Expires': 'Thu, 01 Jan 1970 00:00:01 GMT', 'Server': 'cloudflare', 'CF-RAY': '7c9c39b60c800abf-MAN', 'alt-svc': 'h3=\":443\"; ma=86400, h3-29=\":443\"; ma=86400'}.\n",
      " 92%|███████████████████████████████████████████████████████████████████████████████████████████████████████████████████████████████████████████████████████████▍             | 921/1001 [1:24:10<14:30, 10.88s/it]Retrying langchain.chat_models.openai.ChatOpenAI.completion_with_retry.<locals>._completion_with_retry in 1.0 seconds as it raised APIError: Bad gateway. {\"error\":{\"code\":502,\"message\":\"Bad gateway.\",\"param\":null,\"type\":\"cf_bad_gateway\"}} 502 {'error': {'code': 502, 'message': 'Bad gateway.', 'param': None, 'type': 'cf_bad_gateway'}} {'Date': 'Fri, 19 May 2023 12:20:28 GMT', 'Content-Type': 'application/json', 'Content-Length': '84', 'Connection': 'keep-alive', 'X-Frame-Options': 'SAMEORIGIN', 'Referrer-Policy': 'same-origin', 'Cache-Control': 'private, max-age=0, no-store, no-cache, must-revalidate, post-check=0, pre-check=0', 'Expires': 'Thu, 01 Jan 1970 00:00:01 GMT', 'Server': 'cloudflare', 'CF-RAY': '7c9c43b4faa10abf-MAN', 'alt-svc': 'h3=\":443\"; ma=86400, h3-29=\":443\"; ma=86400'}.\n",
      " 96%|██████████████████████████████████████████████████████████████████████████████████████████████████████████████████████████████████████████████████████████████████▏      | 961/1001 [1:31:23<06:46, 10.15s/it]Retrying langchain.chat_models.openai.ChatOpenAI.completion_with_retry.<locals>._completion_with_retry in 1.0 seconds as it raised APIError: Bad gateway. {\"error\":{\"code\":502,\"message\":\"Bad gateway.\",\"param\":null,\"type\":\"cf_bad_gateway\"}} 502 {'error': {'code': 502, 'message': 'Bad gateway.', 'param': None, 'type': 'cf_bad_gateway'}} {'Date': 'Fri, 19 May 2023 12:27:50 GMT', 'Content-Type': 'application/json', 'Content-Length': '84', 'Connection': 'keep-alive', 'X-Frame-Options': 'SAMEORIGIN', 'Referrer-Policy': 'same-origin', 'Cache-Control': 'private, max-age=0, no-store, no-cache, must-revalidate, post-check=0, pre-check=0', 'Expires': 'Thu, 01 Jan 1970 00:00:01 GMT', 'Server': 'cloudflare', 'CF-RAY': '7c9c4e6ded4d0abf-MAN', 'alt-svc': 'h3=\":443\"; ma=86400, h3-29=\":443\"; ma=86400'}.\n"
     ]
    },
    {
     "name": "stderr",
     "output_type": "stream",
     "text": [
      "100%|████████████████████████████████████████████████████████████████████████████████████████████████████████████████████████████████████████████████████████████████████████| 1001/1001 [1:38:48<00:00,  5.92s/it]"
     ]
    },
    {
     "name": "stdout",
     "output_type": "stream",
     "text": [
      "{'raw_total_accuracy': 37, 'total_accuracy': 0.0185, 'total_accuracy_on_valid': 0.018518518518518517, 'num_valid': 1998, 'num_examples': 2000}\n",
      "----\n"
     ]
    },
    {
     "name": "stderr",
     "output_type": "stream",
     "text": [
      "\n"
     ]
    }
   ],
   "source": [
    "model_name=\"gpt-4-0314\"\n",
    "chat = ChatOpenAI(model_name=model_name, temperature=0.0)\n",
    "print(model_name)\n",
    "chat_eval = eval_chat_model(chat, test_set)\n",
    "print(chat_eval)\n",
    "print(\"----\")\n",
    "eval_results[model_name] = chat_eval"
   ]
  },
  {
   "cell_type": "code",
   "execution_count": null,
   "id": "a2c8575a",
   "metadata": {},
   "outputs": [],
   "source": []
  },
  {
   "cell_type": "code",
   "execution_count": 69,
   "id": "81b9df05",
   "metadata": {},
   "outputs": [],
   "source": [
    "import json\n",
    "import matplotlib.pyplot as plt\n",
    "import numpy as np\n",
    "from pathlib import Path"
   ]
  },
  {
   "cell_type": "code",
   "execution_count": 30,
   "id": "2ab4c70d",
   "metadata": {},
   "outputs": [],
   "source": [
    "out_file_name = \"eval_chat_llms_results.json\""
   ]
  },
  {
   "cell_type": "code",
   "execution_count": 33,
   "id": "1438aa8c",
   "metadata": {},
   "outputs": [],
   "source": [
    "with open(out_file_name, \"w\") as out_fs:\n",
    "    json.dump(eval_results, out_fs)"
   ]
  },
  {
   "cell_type": "code",
   "execution_count": null,
   "id": "733358a0",
   "metadata": {},
   "outputs": [],
   "source": []
  },
  {
   "cell_type": "code",
   "execution_count": 34,
   "id": "9c51c0c9",
   "metadata": {},
   "outputs": [],
   "source": [
    "plt.rcParams.update({'font.size': 12.0})\n",
    "plt.rcParams.update({'figure.titlesize': 'small'})\n",
    "plt.rcParams.update({'legend.fontsize': 'small'})"
   ]
  },
  {
   "cell_type": "code",
   "execution_count": 73,
   "id": "20ab4444",
   "metadata": {},
   "outputs": [
    {
     "data": {
      "image/png": "[encoded data removed]",
      "text/plain": [
       "<Figure size 640x480 with 1 Axes>"
      ]
     },
     "metadata": {},
     "output_type": "display_data"
    }
   ],
   "source": [
    "title = \"Classification accuracy of chat LLMs\"\n",
    "\n",
    "model_names_succinct = [\"-\".join(model_name.split(\"-\")[:-1]) for model_name in eval_results.keys()]\n",
    "ind = np.arange(len(model_names_succinct))\n",
    "width = 0.25\n",
    "\n",
    "pos_vals = [100.0 * eval_results[model_name]['total_accuracy'] for model_name in eval_results.keys()]\n",
    "plt.bar(ind, pos_vals, width, label='Correct', color='blue')\n",
    "\n",
    "neg_vals = [100.0 * (eval_results[model_name]['num_examples'] - eval_results[model_name]['raw_total_accuracy']) / eval_results[model_name]['num_examples'] for model_name in eval_results.keys()]\n",
    "plt.bar(ind+width, neg_vals, width, label='Incorrect', color='red')\n",
    "\n",
    "invalid_vals = [100.0 * (1.0 - (eval_results[model_name]['num_valid'] / eval_results[model_name]['num_examples'])) for model_name in eval_results.keys()]\n",
    "plt.bar(ind+2*width, invalid_vals, width, label='Invalid', color='black')\n",
    "\n",
    "plt.xlabel(\"Model\")\n",
    "plt.title(title)\n",
    "plt.xticks(ind + (width), model_names_succinct)\n",
    "plt.legend(bbox_to_anchor=(1.05, 1.0), loc='upper left')\n",
    "plt.tight_layout()\n",
    "\n",
    "plt.savefig(Path(\"./\", \"chat_llms_classsification_plot.svg\"), format=\"svg\")\n",
    "plt.savefig(Path(\"./\", \"chat_llms_classsification_plot.png\"), format=\"png\")\n",
    "plt.savefig(Path(\"./\", \"chat_llms_classsification_plot.pdf\"), format=\"pdf\")"
   ]
  },
  {
   "cell_type": "code",
   "execution_count": 71,
   "id": "e6ce861b",
   "metadata": {},
   "outputs": [
    {
     "data": {
      "text/plain": [
       "{'claude-instant-v1.1': {'raw_total_accuracy': 206,\n",
       "  'total_accuracy': 0.103,\n",
       "  'total_accuracy_on_valid': 0.103,\n",
       "  'num_valid': 2000,\n",
       "  'num_examples': 2000},\n",
       " 'claude-v1.3': {'raw_total_accuracy': 350,\n",
       "  'total_accuracy': 0.175,\n",
       "  'total_accuracy_on_valid': 0.175,\n",
       "  'num_valid': 2000,\n",
       "  'num_examples': 2000},\n",
       " 'gpt-3.5-turbo-0301': {'raw_total_accuracy': 67,\n",
       "  'total_accuracy': 0.0335,\n",
       "  'total_accuracy_on_valid': 0.0393885949441505,\n",
       "  'num_valid': 1701,\n",
       "  'num_examples': 2000},\n",
       " 'gpt-4-0314': {'raw_total_accuracy': 37,\n",
       "  'total_accuracy': 0.0185,\n",
       "  'total_accuracy_on_valid': 0.018518518518518517,\n",
       "  'num_valid': 1998,\n",
       "  'num_examples': 2000}}"
      ]
     },
     "execution_count": 71,
     "metadata": {},
     "output_type": "execute_result"
    }
   ],
   "source": [
    "eval_results"
   ]
  },
  {
   "cell_type": "code",
   "execution_count": 74,
   "id": "5f9b7e1f",
   "metadata": {},
   "outputs": [],
   "source": [
    "from IPython.display import Image"
   ]
  },
  {
   "cell_type": "code",
   "execution_count": 75,
   "id": "5865c575",
   "metadata": {},
   "outputs": [
    {
     "data": {
      "image/png": "[encoded data removed]",
      "text/plain": [
       "<IPython.core.display.Image object>"
      ]
     },
     "execution_count": 75,
     "metadata": {},
     "output_type": "execute_result"
    }
   ],
   "source": [
    "Image(\"./chat_llms_classsification_plot.png\")"
   ]
  },
  {
   "cell_type": "code",
   "execution_count": null,
   "id": "c715b0ca",
   "metadata": {},
   "outputs": [],
   "source": []
  }
 ],
 "metadata": {
  "kernelspec": {
   "display_name": "Python 3 (ipykernel)",
   "language": "python",
   "name": "python3"
  },
  "language_info": {
   "codemirror_mode": {
    "name": "ipython",
    "version": 3
   },
   "file_extension": ".py",
   "mimetype": "text/x-python",
   "name": "python",
   "nbconvert_exporter": "python",
   "pygments_lexer": "ipython3",
   "version": "3.8.13"
  }
 },
 "nbformat": 4,
 "nbformat_minor": 5
}
